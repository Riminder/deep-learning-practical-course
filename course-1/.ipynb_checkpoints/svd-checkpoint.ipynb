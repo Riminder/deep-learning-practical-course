{
 "cells": [
  {
   "cell_type": "code",
   "execution_count": 1,
   "metadata": {
    "collapsed": true
   },
   "outputs": [],
   "source": [
    "import numpy as np\n",
    "\n",
    "la    = np.linalg\n",
    "words = [\"I\",\"like\", \"enjoy\", \"deep\", \"learning\", \"NLP\", \"flying\", \".\"]\n",
    "X     = np.array([[0,2,1,0,0,0,0,0],\n",
    "                  [2,0,0,1,0,1,0,0],\n",
    "                  [1,0,0,0,0,0,1,0],\n",
    "                  [0,1,0,0,1,0,0,0],\n",
    "                  [0,0,0,1,0,0,0,1],\n",
    "                  [0,1,0,0,0,0,0,1],\n",
    "                  [0,0,1,0,0,0,0,1],\n",
    "                  [0,0,0,0,1,1,1,0],\n",
    "                  ])\n",
    "U, s, Vh = la.svd(X, full_matrices=False)"
   ]
  },
  {
   "cell_type": "code",
   "execution_count": null,
   "metadata": {
    "collapsed": true
   },
   "outputs": [],
   "source": []
  }
 ],
 "metadata": {
  "kernelspec": {
   "display_name": "Python 2",
   "language": "python",
   "name": "python2"
  },
  "language_info": {
   "codemirror_mode": {
    "name": "ipython",
    "version": 2
   },
   "file_extension": ".py",
   "mimetype": "text/x-python",
   "name": "python",
   "nbconvert_exporter": "python",
   "pygments_lexer": "ipython2",
   "version": "2.7.13"
  }
 },
 "nbformat": 4,
 "nbformat_minor": 1
}
